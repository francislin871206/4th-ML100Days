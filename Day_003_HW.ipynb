{
 "cells": [
  {
   "cell_type": "code",
   "execution_count": null,
   "metadata": {},
   "outputs": [],
   "source": [
    "專案的目標:\n",
    "將過去三個重大地震災害的災前災後空拍圖輸入進機器，讓它透過災後圖片上的一些特徵，去學習判斷哪張照片上有發生災害，\n",
    "當未來若又發生地震或是洪水，就可判斷其地區是否發生房屋倒塌等震後災害，讓政府或搜救隊能在黃金72小時內判斷出哪裡\n",
    "需要提供協助。\n",
    "\n",
    "使用的技術是:\n",
    "卷機神經網路CNN，將開拍圖優化並凸顯一些他們想看到的特徵。\n",
    "\n",
    "資料來源:\n",
    "google:\n",
    "Tuesday,June 06,2020-Machine Learning-based Damage Assessment for Disaster Relief \n",
    "\n"
   ]
  }
 ],
 "metadata": {
  "kernelspec": {
   "display_name": "Python 3",
   "language": "python",
   "name": "python3"
  },
  "language_info": {
   "codemirror_mode": {
    "name": "ipython",
    "version": 3
   },
   "file_extension": ".py",
   "mimetype": "text/x-python",
   "name": "python",
   "nbconvert_exporter": "python",
   "pygments_lexer": "ipython3",
   "version": "3.7.4"
  }
 },
 "nbformat": 4,
 "nbformat_minor": 2
}
