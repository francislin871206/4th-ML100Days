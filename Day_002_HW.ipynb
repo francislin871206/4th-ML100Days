{
 "cells": [
  {
   "cell_type": "code",
   "execution_count": 1,
   "metadata": {},
   "outputs": [
    {
     "ename": "ModuleNotFoundError",
     "evalue": "No module named 'request'",
     "output_type": "error",
     "traceback": [
      "\u001b[1;31m---------------------------------------------------------------------------\u001b[0m",
      "\u001b[1;31mModuleNotFoundError\u001b[0m                       Traceback (most recent call last)",
      "\u001b[1;32m<ipython-input-1-e392607f0c42>\u001b[0m in \u001b[0;36m<module>\u001b[1;34m\u001b[0m\n\u001b[1;32m----> 1\u001b[1;33m \u001b[1;32mimport\u001b[0m \u001b[0mrequest\u001b[0m\u001b[1;33m\u001b[0m\u001b[1;33m\u001b[0m\u001b[0m\n\u001b[0m",
      "\u001b[1;31mModuleNotFoundError\u001b[0m: No module named 'request'"
     ]
    }
   ],
   "source": [
    "我認為可以利用機器學習，來達到減肥瘦身的效果。將多筆減肥的資料和減肥狀況做比對，模擬出一個人想在三個月,半年,或一年內\n",
    "瘦多少公斤，每天必須完成的項目，包括生活作息,飲食,運動量，並可以要求測試者每天側量一次體重並連同今天吃的卡路里,運動量\n",
    "睡眠時間天氣溫度等紀錄下來。讓機器可以蒸對這些資訊做適當的學習，透過不斷地紀錄學習，縮小經過特定飲食,運動,睡眠的\n",
    "誤差量。未來這個方法ok的話，還可以發展到嬰兒的照顧，規定嬰兒的飲食,運動,睡眠時間，讓父母可以即時的掌握小孩的成長狀況。"
   ]
  },
  {
   "cell_type": "code",
   "execution_count": null,
   "metadata": {},
   "outputs": [],
   "source": []
  }
 ],
 "metadata": {
  "kernelspec": {
   "display_name": "Python 3",
   "language": "python",
   "name": "python3"
  },
  "language_info": {
   "codemirror_mode": {
    "name": "ipython",
    "version": 3
   },
   "file_extension": ".py",
   "mimetype": "text/x-python",
   "name": "python",
   "nbconvert_exporter": "python",
   "pygments_lexer": "ipython3",
   "version": "3.7.4"
  }
 },
 "nbformat": 4,
 "nbformat_minor": 2
}
