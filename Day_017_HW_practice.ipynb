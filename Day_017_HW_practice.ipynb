{
 "cells": [
  {
   "cell_type": "code",
   "execution_count": 4,
   "metadata": {},
   "outputs": [],
   "source": [
    "import os\n",
    "import pandas as pd\n",
    "import numpy as np\n",
    "import matplotlib.pyplot as plt\n",
    "\n",
    "dir_path = 'C:/Users/francis/Machine_Learning/francis/Documents/GitHub/4th-ML100Days/data/'"
   ]
  },
  {
   "cell_type": "code",
   "execution_count": 11,
   "metadata": {},
   "outputs": [],
   "source": [
    "f_app = os.path.join(dir_path + 'application_train.csv')\n",
    "app_train = pd.read_csv(data_path)\n",
    "app_train.head()\n",
    "app_train['YEARS_BIRTH'] = abs(app_train['DAYS_BIRTH'])/365"
   ]
  },
  {
   "cell_type": "code",
   "execution_count": 13,
   "metadata": {},
   "outputs": [
    {
     "data": {
      "text/plain": [
       "0    25.920548\n",
       "1    45.931507\n",
       "2    52.180822\n",
       "3    52.068493\n",
       "4    54.608219\n",
       "Name: YEARS_BIRTH, dtype: float64"
      ]
     },
     "execution_count": 13,
     "metadata": {},
     "output_type": "execute_result"
    }
   ],
   "source": [
    "app_train['YEARS_BIRTH'].head()"
   ]
  },
  {
   "cell_type": "markdown",
   "metadata": {},
   "source": [
    "## 等寬劃分"
   ]
  },
  {
   "cell_type": "code",
   "execution_count": 15,
   "metadata": {},
   "outputs": [],
   "source": [
    "# 新增欄位 \"equal_width_age\", 對年齡做等寬劃分\n",
    "app_train['equal_width_age'] = pd.cut(app_train['YEARS_BIRTH'], 4)"
   ]
  },
  {
   "cell_type": "code",
   "execution_count": 18,
   "metadata": {},
   "outputs": [
    {
     "name": "stdout",
     "output_type": "stream",
     "text": [
      "(32.668, 44.819]    100808\n",
      "(44.819, 56.97]      84685\n",
      "(20.469, 32.668]     66536\n",
      "(56.97, 69.121]      55482\n",
      "Name: equal_width_age, dtype: int64\n"
     ]
    }
   ],
   "source": [
    "# 觀察等寬劃分下, 每個種組距各出現幾次\n",
    "print(app_train['equal_width_age'].value_counts())"
   ]
  },
  {
   "cell_type": "markdown",
   "metadata": {},
   "source": [
    "## 等頻劃分"
   ]
  },
  {
   "cell_type": "code",
   "execution_count": 20,
   "metadata": {},
   "outputs": [],
   "source": [
    "# 新增欄位 \"equal_freq_age\", 對年齡做等頻劃分\n",
    "app_train['equal_freq_age'] =  pd.qcut(app_train['YEARS_BIRTH'],4)"
   ]
  },
  {
   "cell_type": "code",
   "execution_count": 22,
   "metadata": {},
   "outputs": [
    {
     "name": "stdout",
     "output_type": "stream",
     "text": [
      "(43.151, 53.923]    76887\n",
      "(20.517, 34.008]    76884\n",
      "(34.008, 43.151]    76877\n",
      "(53.923, 69.121]    76863\n",
      "Name: equal_freq_age, dtype: int64\n"
     ]
    }
   ],
   "source": [
    "# 觀察等頻劃分下, 每個種組距各出現幾次\n",
    "print(app_train['equal_freq_age'].value_counts())"
   ]
  },
  {
   "cell_type": "markdown",
   "metadata": {},
   "source": [
    "## 作業\n",
    " 新增一個欄位 customized_age_grp，把 age 分為 (0, 10], (10, 20], (20, 30], (30, 50], (50, 100] 這五組，'(' 表示不包含, ']' 表示包含\n",
    "\n",
    " Hints: 執行 ??pd.cut()，了解提供其中 bins 這個參數的使用方式"
   ]
  },
  {
   "cell_type": "code",
   "execution_count": 28,
   "metadata": {},
   "outputs": [],
   "source": [
    "bins = pd.IntervalIndex.from_tuples([(0,10),(10,20),(20,30),(30,50),(50,100)])\n",
    "app_train['customized_age_grp'] = pd.cut(app_train['YEARS_BIRTH'], bins)"
   ]
  },
  {
   "cell_type": "code",
   "execution_count": 30,
   "metadata": {},
   "outputs": [
    {
     "name": "stdout",
     "output_type": "stream",
     "text": [
      "(30, 50]     158849\n",
      "(50, 100]    103641\n",
      "(20, 30]      45021\n",
      "(10, 20]          0\n",
      "(0, 10]           0\n",
      "Name: customized_age_grp, dtype: int64\n"
     ]
    }
   ],
   "source": [
    "print(app_train['customized_age_grp'].value_counts())"
   ]
  },
  {
   "cell_type": "code",
   "execution_count": null,
   "metadata": {},
   "outputs": [],
   "source": []
  }
 ],
 "metadata": {
  "kernelspec": {
   "display_name": "Python 3",
   "language": "python",
   "name": "python3"
  },
  "language_info": {
   "codemirror_mode": {
    "name": "ipython",
    "version": 3
   },
   "file_extension": ".py",
   "mimetype": "text/x-python",
   "name": "python",
   "nbconvert_exporter": "python",
   "pygments_lexer": "ipython3",
   "version": "3.7.4"
  }
 },
 "nbformat": 4,
 "nbformat_minor": 2
}
